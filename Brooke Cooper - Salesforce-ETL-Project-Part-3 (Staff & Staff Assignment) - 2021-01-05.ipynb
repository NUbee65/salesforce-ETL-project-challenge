{
 "cells": [
  {
   "cell_type": "code",
   "execution_count": null,
   "metadata": {},
   "outputs": [],
   "source": [
    "#!pip install simple_salesforce\n",
    "#!pip install pymysql\n",
    "#!pip install sqlalchemy"
   ]
  },
  {
   "cell_type": "code",
   "execution_count": 1,
   "metadata": {},
   "outputs": [],
   "source": [
    "import json\n",
    "from sqlalchemy import create_engine\n",
    "import datetime as dt\n",
    "from datetime import date\n",
    "import pandas as pd\n",
    "import pymysql\n",
    "pymysql.install_as_MySQLdb()"
   ]
  },
  {
   "cell_type": "code",
   "execution_count": 2,
   "metadata": {},
   "outputs": [],
   "source": [
    "# Make sure to use your own `config.py` file. Consider ensuring that these variable names are in sync\n",
    "from config import sf_username, sf_password, sf_security_token\n",
    "from config import remote_db_endpoint, remote_db_port\n",
    "from config import remote_db_name, remote_db_user, remote_db_pwd"
   ]
  },
  {
   "cell_type": "code",
   "execution_count": 3,
   "metadata": {},
   "outputs": [],
   "source": [
    "from simple_salesforce import Salesforce\n",
    "sf = Salesforce(username=sf_username, password=sf_password, security_token=sf_security_token)"
   ]
  },
  {
   "cell_type": "code",
   "execution_count": 4,
   "metadata": {},
   "outputs": [],
   "source": [
    "engine = create_engine(f\"mysql://{remote_db_user}:{remote_db_pwd}@{remote_db_endpoint}:{remote_db_port}/{remote_db_name}\")\n",
    "conn = engine.connect()"
   ]
  },
  {
   "cell_type": "markdown",
   "metadata": {},
   "source": [
    "## Prepare ETL for the Staff data"
   ]
  },
  {
   "cell_type": "code",
   "execution_count": 5,
   "metadata": {},
   "outputs": [
    {
     "data": {
      "text/html": [
       "<div>\n",
       "<style scoped>\n",
       "    .dataframe tbody tr th:only-of-type {\n",
       "        vertical-align: middle;\n",
       "    }\n",
       "\n",
       "    .dataframe tbody tr th {\n",
       "        vertical-align: top;\n",
       "    }\n",
       "\n",
       "    .dataframe thead th {\n",
       "        text-align: right;\n",
       "    }\n",
       "</style>\n",
       "<table border=\"1\" class=\"dataframe\">\n",
       "  <thead>\n",
       "    <tr style=\"text-align: right;\">\n",
       "      <th></th>\n",
       "      <th>ID_Staff</th>\n",
       "      <th>EmployeeID</th>\n",
       "      <th>LastName</th>\n",
       "      <th>FirstName</th>\n",
       "      <th>MiddleName</th>\n",
       "      <th>BirthDate</th>\n",
       "    </tr>\n",
       "  </thead>\n",
       "  <tbody>\n",
       "    <tr>\n",
       "      <th>0</th>\n",
       "      <td>1</td>\n",
       "      <td>000184220</td>\n",
       "      <td>Luongo</td>\n",
       "      <td>Darick</td>\n",
       "      <td>Nico</td>\n",
       "      <td>1995-07-05</td>\n",
       "    </tr>\n",
       "    <tr>\n",
       "      <th>1</th>\n",
       "      <td>2</td>\n",
       "      <td>000130109</td>\n",
       "      <td>Sanford</td>\n",
       "      <td>Gemini</td>\n",
       "      <td>Blair</td>\n",
       "      <td>1992-04-22</td>\n",
       "    </tr>\n",
       "    <tr>\n",
       "      <th>2</th>\n",
       "      <td>3</td>\n",
       "      <td>000160655</td>\n",
       "      <td>Williams</td>\n",
       "      <td>Dartanion</td>\n",
       "      <td>De Angelo</td>\n",
       "      <td>1993-05-21</td>\n",
       "    </tr>\n",
       "    <tr>\n",
       "      <th>3</th>\n",
       "      <td>4</td>\n",
       "      <td>000159108</td>\n",
       "      <td>Rodney</td>\n",
       "      <td>Heather</td>\n",
       "      <td>Nicole</td>\n",
       "      <td>1994-06-07</td>\n",
       "    </tr>\n",
       "  </tbody>\n",
       "</table>\n",
       "</div>"
      ],
      "text/plain": [
       "   ID_Staff EmployeeID  LastName  FirstName MiddleName   BirthDate\n",
       "0         1  000184220    Luongo     Darick       Nico  1995-07-05\n",
       "1         2  000130109   Sanford     Gemini      Blair  1992-04-22\n",
       "2         3  000160655  Williams  Dartanion  De Angelo  1993-05-21\n",
       "3         4  000159108    Rodney    Heather     Nicole  1994-06-07"
      ]
     },
     "execution_count": 5,
     "metadata": {},
     "output_type": "execute_result"
    }
   ],
   "source": [
    "staff_data_df = pd.read_sql(\"SELECT * FROM staff\", conn)\n",
    "staff_data_df.head()"
   ]
  },
  {
   "cell_type": "code",
   "execution_count": 6,
   "metadata": {},
   "outputs": [
    {
     "data": {
      "text/plain": [
       "ID_Staff       int64\n",
       "EmployeeID    object\n",
       "LastName      object\n",
       "FirstName     object\n",
       "MiddleName    object\n",
       "BirthDate     object\n",
       "dtype: object"
      ]
     },
     "execution_count": 6,
     "metadata": {},
     "output_type": "execute_result"
    }
   ],
   "source": [
    "staff_data_df.dtypes"
   ]
  },
  {
   "cell_type": "code",
   "execution_count": 7,
   "metadata": {},
   "outputs": [
    {
     "data": {
      "text/html": [
       "<div>\n",
       "<style scoped>\n",
       "    .dataframe tbody tr th:only-of-type {\n",
       "        vertical-align: middle;\n",
       "    }\n",
       "\n",
       "    .dataframe tbody tr th {\n",
       "        vertical-align: top;\n",
       "    }\n",
       "\n",
       "    .dataframe thead th {\n",
       "        text-align: right;\n",
       "    }\n",
       "</style>\n",
       "<table border=\"1\" class=\"dataframe\">\n",
       "  <thead>\n",
       "    <tr style=\"text-align: right;\">\n",
       "      <th></th>\n",
       "      <th>ID_Staff</th>\n",
       "      <th>EmployeeID</th>\n",
       "      <th>LastName</th>\n",
       "      <th>FirstName</th>\n",
       "      <th>MiddleName</th>\n",
       "      <th>BirthDate</th>\n",
       "    </tr>\n",
       "  </thead>\n",
       "  <tbody>\n",
       "    <tr>\n",
       "      <th>0</th>\n",
       "      <td>1</td>\n",
       "      <td>000184220</td>\n",
       "      <td>Luongo</td>\n",
       "      <td>Darick</td>\n",
       "      <td>Nico</td>\n",
       "      <td>1995-07-05</td>\n",
       "    </tr>\n",
       "    <tr>\n",
       "      <th>1</th>\n",
       "      <td>2</td>\n",
       "      <td>000130109</td>\n",
       "      <td>Sanford</td>\n",
       "      <td>Gemini</td>\n",
       "      <td>Blair</td>\n",
       "      <td>1992-04-22</td>\n",
       "    </tr>\n",
       "    <tr>\n",
       "      <th>2</th>\n",
       "      <td>3</td>\n",
       "      <td>000160655</td>\n",
       "      <td>Williams</td>\n",
       "      <td>Dartanion</td>\n",
       "      <td>De Angelo</td>\n",
       "      <td>1993-05-21</td>\n",
       "    </tr>\n",
       "    <tr>\n",
       "      <th>3</th>\n",
       "      <td>4</td>\n",
       "      <td>000159108</td>\n",
       "      <td>Rodney</td>\n",
       "      <td>Heather</td>\n",
       "      <td>Nicole</td>\n",
       "      <td>1994-06-07</td>\n",
       "    </tr>\n",
       "  </tbody>\n",
       "</table>\n",
       "</div>"
      ],
      "text/plain": [
       "   ID_Staff EmployeeID  LastName  FirstName MiddleName   BirthDate\n",
       "0         1  000184220    Luongo     Darick       Nico  1995-07-05\n",
       "1         2  000130109   Sanford     Gemini      Blair  1992-04-22\n",
       "2         3  000160655  Williams  Dartanion  De Angelo  1993-05-21\n",
       "3         4  000159108    Rodney    Heather     Nicole  1994-06-07"
      ]
     },
     "execution_count": 7,
     "metadata": {},
     "output_type": "execute_result"
    }
   ],
   "source": [
    "# staff_data_df\n",
    "staff_data_df['BirthDate'] = pd.to_datetime(staff_data_df['BirthDate']).dt.date\n",
    "staff_data_df.head()"
   ]
  },
  {
   "cell_type": "code",
   "execution_count": 8,
   "metadata": {},
   "outputs": [
    {
     "data": {
      "text/plain": [
       "ID_Staff       int64\n",
       "EmployeeID    object\n",
       "LastName      object\n",
       "FirstName     object\n",
       "MiddleName    object\n",
       "BirthDate     object\n",
       "dtype: object"
      ]
     },
     "execution_count": 8,
     "metadata": {},
     "output_type": "execute_result"
    }
   ],
   "source": [
    "staff_data_df.dtypes"
   ]
  },
  {
   "cell_type": "code",
   "execution_count": 9,
   "metadata": {},
   "outputs": [
    {
     "data": {
      "text/html": [
       "<div>\n",
       "<style scoped>\n",
       "    .dataframe tbody tr th:only-of-type {\n",
       "        vertical-align: middle;\n",
       "    }\n",
       "\n",
       "    .dataframe tbody tr th {\n",
       "        vertical-align: top;\n",
       "    }\n",
       "\n",
       "    .dataframe thead th {\n",
       "        text-align: right;\n",
       "    }\n",
       "</style>\n",
       "<table border=\"1\" class=\"dataframe\">\n",
       "  <thead>\n",
       "    <tr style=\"text-align: right;\">\n",
       "      <th></th>\n",
       "      <th>ID_Staff</th>\n",
       "      <th>Employee_ID__c</th>\n",
       "      <th>Last_Name__c</th>\n",
       "      <th>First_Name__c</th>\n",
       "      <th>Middle_Name__c</th>\n",
       "      <th>Birth_Date__c</th>\n",
       "    </tr>\n",
       "  </thead>\n",
       "  <tbody>\n",
       "    <tr>\n",
       "      <th>0</th>\n",
       "      <td>1</td>\n",
       "      <td>000184220</td>\n",
       "      <td>Luongo</td>\n",
       "      <td>Darick</td>\n",
       "      <td>Nico</td>\n",
       "      <td>1995-07-05</td>\n",
       "    </tr>\n",
       "    <tr>\n",
       "      <th>1</th>\n",
       "      <td>2</td>\n",
       "      <td>000130109</td>\n",
       "      <td>Sanford</td>\n",
       "      <td>Gemini</td>\n",
       "      <td>Blair</td>\n",
       "      <td>1992-04-22</td>\n",
       "    </tr>\n",
       "    <tr>\n",
       "      <th>2</th>\n",
       "      <td>3</td>\n",
       "      <td>000160655</td>\n",
       "      <td>Williams</td>\n",
       "      <td>Dartanion</td>\n",
       "      <td>De Angelo</td>\n",
       "      <td>1993-05-21</td>\n",
       "    </tr>\n",
       "    <tr>\n",
       "      <th>3</th>\n",
       "      <td>4</td>\n",
       "      <td>000159108</td>\n",
       "      <td>Rodney</td>\n",
       "      <td>Heather</td>\n",
       "      <td>Nicole</td>\n",
       "      <td>1994-06-07</td>\n",
       "    </tr>\n",
       "  </tbody>\n",
       "</table>\n",
       "</div>"
      ],
      "text/plain": [
       "   ID_Staff Employee_ID__c Last_Name__c First_Name__c Middle_Name__c  \\\n",
       "0         1      000184220       Luongo        Darick           Nico   \n",
       "1         2      000130109      Sanford        Gemini          Blair   \n",
       "2         3      000160655     Williams     Dartanion      De Angelo   \n",
       "3         4      000159108       Rodney       Heather         Nicole   \n",
       "\n",
       "  Birth_Date__c  \n",
       "0    1995-07-05  \n",
       "1    1992-04-22  \n",
       "2    1993-05-21  \n",
       "3    1994-06-07  "
      ]
     },
     "execution_count": 9,
     "metadata": {},
     "output_type": "execute_result"
    }
   ],
   "source": [
    "staff_data_df.rename(columns={\n",
    "    'EmployeeID':'Employee_ID__c',\n",
    "    'FirstName':'First_Name__c',\n",
    "    'LastName':'Last_Name__c',\n",
    "    'MiddleName':'Middle_Name__c',\n",
    "    'BirthDate':'Birth_Date__c'    \n",
    "}, inplace=True)\n",
    "staff_data_df.head()"
   ]
  },
  {
   "cell_type": "code",
   "execution_count": 10,
   "metadata": {},
   "outputs": [
    {
     "data": {
      "text/html": [
       "<div>\n",
       "<style scoped>\n",
       "    .dataframe tbody tr th:only-of-type {\n",
       "        vertical-align: middle;\n",
       "    }\n",
       "\n",
       "    .dataframe tbody tr th {\n",
       "        vertical-align: top;\n",
       "    }\n",
       "\n",
       "    .dataframe thead th {\n",
       "        text-align: right;\n",
       "    }\n",
       "</style>\n",
       "<table border=\"1\" class=\"dataframe\">\n",
       "  <thead>\n",
       "    <tr style=\"text-align: right;\">\n",
       "      <th></th>\n",
       "      <th>ID_Staff</th>\n",
       "      <th>Employee_ID__c</th>\n",
       "      <th>Last_Name__c</th>\n",
       "      <th>First_Name__c</th>\n",
       "      <th>Middle_Name__c</th>\n",
       "      <th>Birth_Date__c</th>\n",
       "    </tr>\n",
       "  </thead>\n",
       "  <tbody>\n",
       "    <tr>\n",
       "      <th>0</th>\n",
       "      <td>1</td>\n",
       "      <td>000184220</td>\n",
       "      <td>Luongo</td>\n",
       "      <td>Darick</td>\n",
       "      <td>Nico</td>\n",
       "      <td>1995-07-05</td>\n",
       "    </tr>\n",
       "    <tr>\n",
       "      <th>1</th>\n",
       "      <td>2</td>\n",
       "      <td>000130109</td>\n",
       "      <td>Sanford</td>\n",
       "      <td>Gemini</td>\n",
       "      <td>Blair</td>\n",
       "      <td>1992-04-22</td>\n",
       "    </tr>\n",
       "    <tr>\n",
       "      <th>2</th>\n",
       "      <td>3</td>\n",
       "      <td>000160655</td>\n",
       "      <td>Williams</td>\n",
       "      <td>Dartanion</td>\n",
       "      <td>De Angelo</td>\n",
       "      <td>1993-05-21</td>\n",
       "    </tr>\n",
       "    <tr>\n",
       "      <th>3</th>\n",
       "      <td>4</td>\n",
       "      <td>000159108</td>\n",
       "      <td>Rodney</td>\n",
       "      <td>Heather</td>\n",
       "      <td>Nicole</td>\n",
       "      <td>1994-06-07</td>\n",
       "    </tr>\n",
       "  </tbody>\n",
       "</table>\n",
       "</div>"
      ],
      "text/plain": [
       "   ID_Staff Employee_ID__c Last_Name__c First_Name__c Middle_Name__c  \\\n",
       "0         1      000184220       Luongo        Darick           Nico   \n",
       "1         2      000130109      Sanford        Gemini          Blair   \n",
       "2         3      000160655     Williams     Dartanion      De Angelo   \n",
       "3         4      000159108       Rodney       Heather         Nicole   \n",
       "\n",
       "  Birth_Date__c  \n",
       "0    1995-07-05  \n",
       "1    1992-04-22  \n",
       "2    1993-05-21  \n",
       "3    1994-06-07  "
      ]
     },
     "execution_count": 10,
     "metadata": {},
     "output_type": "execute_result"
    }
   ],
   "source": [
    "staff_data_df = staff_data_df[['ID_Staff', 'Employee_ID__c', 'Last_Name__c', 'First_Name__c', 'Middle_Name__c', 'Birth_Date__c']]\n",
    "staff_data_df.head()"
   ]
  },
  {
   "cell_type": "code",
   "execution_count": 11,
   "metadata": {},
   "outputs": [
    {
     "data": {
      "text/plain": [
       "[{'ID_Staff': 1,\n",
       "  'Employee_ID__c': '000184220',\n",
       "  'Last_Name__c': 'Luongo',\n",
       "  'First_Name__c': 'Darick',\n",
       "  'Middle_Name__c': 'Nico',\n",
       "  'Birth_Date__c': datetime.date(1995, 7, 5)},\n",
       " {'ID_Staff': 2,\n",
       "  'Employee_ID__c': '000130109',\n",
       "  'Last_Name__c': 'Sanford',\n",
       "  'First_Name__c': 'Gemini',\n",
       "  'Middle_Name__c': 'Blair',\n",
       "  'Birth_Date__c': datetime.date(1992, 4, 22)},\n",
       " {'ID_Staff': 3,\n",
       "  'Employee_ID__c': '000160655',\n",
       "  'Last_Name__c': 'Williams',\n",
       "  'First_Name__c': 'Dartanion',\n",
       "  'Middle_Name__c': 'De Angelo',\n",
       "  'Birth_Date__c': datetime.date(1993, 5, 21)},\n",
       " {'ID_Staff': 4,\n",
       "  'Employee_ID__c': '000159108',\n",
       "  'Last_Name__c': 'Rodney',\n",
       "  'First_Name__c': 'Heather',\n",
       "  'Middle_Name__c': 'Nicole',\n",
       "  'Birth_Date__c': datetime.date(1994, 6, 7)}]"
      ]
     },
     "execution_count": 11,
     "metadata": {},
     "output_type": "execute_result"
    }
   ],
   "source": [
    "staff_data_records = staff_data_df.to_dict('records')\n",
    "staff_data_records"
   ]
  },
  {
   "cell_type": "markdown",
   "metadata": {},
   "source": [
    "## Insert `Staff` Records into Salesforce"
   ]
  },
  {
   "cell_type": "code",
   "execution_count": 12,
   "metadata": {},
   "outputs": [
    {
     "name": "stdout",
     "output_type": "stream",
     "text": [
      "Object of type date is not JSON serializable\n",
      "Object of type date is not JSON serializable\n",
      "Object of type date is not JSON serializable\n",
      "Object of type date is not JSON serializable\n"
     ]
    }
   ],
   "source": [
    "for rec in staff_data_records:\n",
    "\n",
    "    record = {\n",
    "        'Employee_ID__c': rec['Employee_ID__c'],\n",
    "        'Last_Name__c': rec['Last_Name__c'],\n",
    "        'First_Name__c': rec['First_Name__c'],\n",
    "        'Middle_Name__c': rec['Middle_Name__c'],\n",
    "        'Birth_Date__c': rec['Birth_Date__c']\n",
    "    }\n",
    "    \n",
    "    try:\n",
    "        sf.Staff__c.create(record)\n",
    "    except Exception as e:\n",
    "        print(e)"
   ]
  },
  {
   "cell_type": "code",
   "execution_count": null,
   "metadata": {},
   "outputs": [],
   "source": [
    "# Bulk \n",
    "#sf.bulk.Staff__c.insert(staff_data_records)"
   ]
  },
  {
   "cell_type": "markdown",
   "metadata": {},
   "source": [
    "## Create Staff Lookup Table\n",
    "You will use this later to crosswalk the course code with the primary key from the `Course` table\n",
    "\n",
    "It is important to note that we will be querying **Salesforce** to retrieve the record IDs "
   ]
  },
  {
   "cell_type": "code",
   "execution_count": null,
   "metadata": {},
   "outputs": [],
   "source": [
    "course_lookup_list = []\n",
    "\n",
    "# The `Name` column in the primary key in Salesforce objects\n",
    "# The Salesforce query language is called SOQL \n",
    "data = sf.query_all_iter(\"SELECT Course_Code__c, Name FROM Course__c\")\n",
    "for row in data:\n",
    "    rec = {\n",
    "        'ID_Course__c': row['Name'], # this is a critical line of code\n",
    "        'Course_Code__c': row['Course_Code__c']\n",
    "    }\n",
    "    course_lookup_list.append(rec)\n",
    "    \n",
    "course_lookup_list"
   ]
  },
  {
   "cell_type": "code",
   "execution_count": null,
   "metadata": {},
   "outputs": [],
   "source": [
    "course_lookup_df = pd.DataFrame(course_lookup_list)\n",
    "course_lookup_df"
   ]
  },
  {
   "cell_type": "code",
   "execution_count": null,
   "metadata": {},
   "outputs": [],
   "source": [
    "# Query the `Class` table from MySQL\n",
    "query = '''\n",
    "    SELECT \n",
    "        co.CourseCode,\n",
    "        cl.*\n",
    "    FROM \n",
    "        class cl\n",
    "        INNER JOIN course co\n",
    "        ON cl.ID_Course = co.ID_Course\n",
    "\n",
    "'''\n",
    "\n",
    "class_data_df = pd.read_sql(query, conn)\n",
    "class_data_df.head()"
   ]
  },
  {
   "cell_type": "code",
   "execution_count": null,
   "metadata": {},
   "outputs": [],
   "source": [
    "class_data_df.rename(columns={\n",
    "    'CourseCode':'Course_Code__c',\n",
    "    'Section':'Section__c',\n",
    "    'StartDate':'Start_Date__c',\n",
    "    'EndDate':'End_Date__c',\n",
    "    'CourseCode':'Course_Code__c'\n",
    "}, inplace=True)\n",
    "\n",
    "\n",
    "class_data_df = class_data_df[['Course_Code__c', 'Section__c', 'Start_Date__c', 'End_Date__c']]\n",
    "class_data_df"
   ]
  },
  {
   "cell_type": "markdown",
   "metadata": {},
   "source": [
    "## Join the Staff Assignment DataFrame with the Staff lookup table\n",
    "This join is necessary to successfully lookup the foreign key for the Course table "
   ]
  },
  {
   "cell_type": "code",
   "execution_count": null,
   "metadata": {},
   "outputs": [],
   "source": [
    "class_data_df = pd.merge(class_data_df, course_lookup_df, how='left')\n",
    "#class_data_df.drop(columns = ['ID_Class','ID_Course','CourseName','CreditHours','BootCampCourse','Course_Code__c'], inplace=True)\n",
    "\n",
    "class_data_df.head()"
   ]
  },
  {
   "cell_type": "code",
   "execution_count": null,
   "metadata": {},
   "outputs": [],
   "source": [
    "class_data_df\n",
    "class_data_df['Start_Date__c'] = pd.to_datetime(class_data_df['Start_Date__c']).dt.date\n",
    "class_data_df['End_Date__c'] = pd.to_datetime(class_data_df['End_Date__c']).dt.date\n",
    "\n",
    "class_data_df.head()"
   ]
  },
  {
   "cell_type": "code",
   "execution_count": null,
   "metadata": {},
   "outputs": [],
   "source": [
    "class_data_records = class_data_df.to_dict(orient='records')\n",
    "class_data_records"
   ]
  },
  {
   "cell_type": "markdown",
   "metadata": {},
   "source": [
    "## Insert `Staff Assignment` Records into Salesforce"
   ]
  },
  {
   "cell_type": "code",
   "execution_count": null,
   "metadata": {},
   "outputs": [],
   "source": [
    "for rec in class_data_records:\n",
    " \n",
    "    record = {\n",
    "        'ID_Course__c': rec['ID_Course__c'],\n",
    "        'Section__c': rec['Section__c'],\n",
    "        'Start_Date__c': str(rec['Start_Date__c']),\n",
    "        'End_Date__c': str(rec['End_Date__c']),\n",
    "    }\n",
    "    \n",
    "    try:\n",
    "        sf.Class__C.create(record)\n",
    "    except Exception as e:\n",
    "        print(e)"
   ]
  },
  {
   "cell_type": "markdown",
   "metadata": {},
   "source": [
    "## Example of Deleting Records\n",
    "\n",
    "Select the IDs of the records first and then process the results.\n",
    "\n",
    "Ultimately, you want a list of IDs in the end.\n"
   ]
  },
  {
   "cell_type": "code",
   "execution_count": null,
   "metadata": {},
   "outputs": [],
   "source": [
    "class_records = sf.query(\"SELECT Id FROM Course__c\")\n",
    "recs_to_delete = [{'Id': r['Id']} for r in class_records['records']]\n",
    "recs_to_delete"
   ]
  },
  {
   "cell_type": "code",
   "execution_count": null,
   "metadata": {},
   "outputs": [],
   "source": [
    "#sf.bulk.Course__c.delete(recs_to_delete)"
   ]
  },
  {
   "cell_type": "code",
   "execution_count": null,
   "metadata": {},
   "outputs": [],
   "source": [
    "for rec in recs_to_delete:\n",
    "    try:\n",
    "        sf.Course__c.delete(rec['Id'])\n",
    "    except Exception as e:\n",
    "        print(e)"
   ]
  }
 ],
 "metadata": {
  "kernelspec": {
   "display_name": "Python 3",
   "language": "python",
   "name": "python3"
  },
  "language_info": {
   "codemirror_mode": {
    "name": "ipython",
    "version": 3
   },
   "file_extension": ".py",
   "mimetype": "text/x-python",
   "name": "python",
   "nbconvert_exporter": "python",
   "pygments_lexer": "ipython3",
   "version": "3.8.5"
  }
 },
 "nbformat": 4,
 "nbformat_minor": 2
}
